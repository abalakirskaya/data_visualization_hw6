{
 "cells": [
  {
   "cell_type": "code",
   "execution_count": null,
   "id": "112ca38b",
   "metadata": {},
   "outputs": [],
   "source": [
    "import pandas as pd\n",
    "import altair as alt\n",
    "import geopandas as gpd"
   ]
  },
  {
   "cell_type": "code",
   "execution_count": null,
   "id": "52e05ae4",
   "metadata": {},
   "outputs": [],
   "source": [
    "df = pd.read_csv('population_trends.csv')\n",
    "ukraine = gpd.read_file('ukraine.json')\n",
    "\n"
   ]
  },
  {
   "cell_type": "code",
   "execution_count": null,
   "id": "b69fb6b2",
   "metadata": {},
   "outputs": [],
   "source": [
    "df = df[df.region != 'Ukraine']\n",
    "df_last_year = df[df[\"year\"] == df[\"year\"].max()]"
   ]
  },
  {
   "cell_type": "code",
   "execution_count": null,
   "id": "c7abba64",
   "metadata": {},
   "outputs": [],
   "source": [
    "base = alt.Chart(ukraine).transform_lookup(\n",
    "    lookup = 'NAME_1',\n",
    "    from_ = alt.LookupData(data = df_last_year, \n",
    "                           key = 'region',\n",
    "                           fields=['rate', 'region']),\n",
    "    default = '0'\n",
    ").mark_geoshape(stroke = 'white', strokeWidth = 1\n",
    ").encode(color = alt.Color('rate:Q', scale = alt.Scale(scheme = 'darkred')))"
   ]
  },
  {
   "cell_type": "code",
   "execution_count": null,
   "id": "ea0b2a19",
   "metadata": {},
   "outputs": [],
   "source": [
    "select_region = alt.selection_single(on = 'mouseover', nearest = False, fields = ['region'], empty = 'none')"
   ]
  },
  {
   "cell_type": "code",
   "execution_count": null,
   "id": "8aa1691b",
   "metadata": {},
   "outputs": [],
   "source": [
    "selection = alt.Chart(ukraine).transform_lookup(\n",
    "    lookup = 'NAME_1',\n",
    "    from_ = alt.LookupData(data = df, \n",
    "                           key = 'region',\n",
    "                           fields=['region', 'rate'])\n",
    ").mark_geoshape(stroke='black', strokeWidth=2).encode(\n",
    "    color = alt.Color('rate:Q', scale = alt.Scale(scheme = 'darkred')),\n",
    "    opacity = alt.condition(select_region, alt.value(1), alt.value(0))\n",
    ").add_selection(\n",
    "    select_region\n",
    ").encode(tooltip = [\n",
    "        alt.Tooltip('region:N'),\n",
    "        alt.Tooltip('rate:N')])"
   ]
  },
  {
   "cell_type": "markdown",
   "id": "de441e9f",
   "metadata": {},
   "source": [
    "**- карта, котра відображає рівень приросту / скорочення населення за регіонами станом на останній доступний рік**"
   ]
  },
  {
   "cell_type": "code",
   "execution_count": null,
   "id": "f1abfb71",
   "metadata": {
    "scrolled": true
   },
   "outputs": [],
   "source": [
    "alt.layer(base, selection).properties(width = 900, height = 500, background = '#F9F9F9', padding = 25)"
   ]
  },
  {
   "cell_type": "code",
   "execution_count": null,
   "id": "dd0d8a36",
   "metadata": {},
   "outputs": [],
   "source": [
    "lines = alt.Chart(df).mark_line().encode(\n",
    "    x = alt.X('year:Q'),\n",
    "    y = alt.Y('rate:Q'),\n",
    "    tooltip = [alt.Tooltip('rate:O'),\n",
    "    alt.Tooltip('region:N')],\n",
    "    detail = alt.Detail('region:N'),\n",
    "    opacity = alt.condition(\n",
    "        select_region,\n",
    "        alt.value(1),\n",
    "        alt.value(0.4)\n",
    "    )\n",
    "    \n",
    ")\n",
    "\n",
    "base = alt.Chart(ukraine).transform_lookup(\n",
    "    lookup = 'NAME_1',\n",
    "    from_ = alt.LookupData(data = df, \n",
    "                           key = 'region',\n",
    "                           fields=['region', 'rate'])\n",
    ").mark_geoshape(stroke='white', strokeWidth=1).encode(\n",
    "    color = alt.Color('rate:Q', scale = alt.Scale(scheme = 'darkred')),\n",
    "    tooltip = [alt.Tooltip('region:N'),\n",
    "    alt.Tooltip('rate:N')],\n",
    "    opacity = alt.condition(\n",
    "        select_region,\n",
    "        alt.value(1),\n",
    "        alt.value(0.4)\n",
    "    )\n",
    ")\n"
   ]
  },
  {
   "cell_type": "markdown",
   "id": "a9a1ecf8",
   "metadata": {},
   "source": [
    "**- лінійний графік, котрий відображає рівень приросту / скорочення населення за регіонами за всіма роками (одна лінія на графіку - один регіон)**"
   ]
  },
  {
   "cell_type": "code",
   "execution_count": null,
   "id": "a679e14a",
   "metadata": {},
   "outputs": [],
   "source": [
    "lines.properties(width = 800, height = 400).add_selection(select_region) & base.properties(width = 800, height = 300).add_selection(select_region)\n"
   ]
  },
  {
   "cell_type": "code",
   "execution_count": null,
   "id": "51218825",
   "metadata": {},
   "outputs": [],
   "source": []
  }
 ],
 "metadata": {
  "kernelspec": {
   "display_name": "Python 3 (ipykernel)",
   "language": "python",
   "name": "python3"
  },
  "language_info": {
   "codemirror_mode": {
    "name": "ipython",
    "version": 3
   },
   "file_extension": ".py",
   "mimetype": "text/x-python",
   "name": "python",
   "nbconvert_exporter": "python",
   "pygments_lexer": "ipython3",
   "version": "3.7.11"
  }
 },
 "nbformat": 4,
 "nbformat_minor": 5
}
